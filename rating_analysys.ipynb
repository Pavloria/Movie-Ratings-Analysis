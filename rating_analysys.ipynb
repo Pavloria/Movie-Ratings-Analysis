{
 "cells": [
  {
   "cell_type": "code",
   "execution_count": null,
   "metadata": {},
   "outputs": [],
   "source": [
    "import matplotlib.pyplot as plt\n",
    "import pandas as pd\n",
    "\n",
    "#Löschen alle Zeile, wo im bestimmte Spallte  NaN order nicht numeric Daten geben\n",
    "def clean_not_numbers_value(df,subset):\n",
    "    #Konvertieren nich numeric Daten in einer Spalter in NaN\n",
    "    df[subset]=pd.to_numeric(df[subset], errors='coerce')\n",
    "    #Löschen alle NaN Values\n",
    "    df=df.dropna(subset=subset)\n",
    "    return df\n",
    "#Reinigt  Daten für die Analyse \n",
    "#Nimmt als Argument den Name einer Zeile in DataFrame mit Metadate, die quantative Values hat\n",
    "def prepare_data_for_rating_analysys(x_value):\n",
    "    #Bekommen Daten von csv-Datai, die Information über Rating vom Filmen enthalten\n",
    "    df_rating=pd.read_csv(\"archive/ratings.csv\")\n",
    "    #Bekommen Daten mit Filmenmetadaten von csv-Datai(Laufzeit,Budget...).\n",
    "    df_metadata=pd.read_csv(\"archive/movies_metadata.csv\")\n",
    "\n",
    "    #Ratings,die zum gleigen Film gehören zuerst Gruppieren  und dann mittlere Wert von Rating für jeder Film finden\n",
    "    rating_y=df_rating.groupby('movieId')['rating'].mean()\n",
    "    #Indeces, die den Filmen Id entsprechen, in  Integer converieren\n",
    "    rating_y.index = rating_y.index.astype(int)\n",
    "\n",
    "    #Löschen alle Zeile, wo im bestimmte Spallte  NaN order nicht numeric Daten geben\n",
    "    df_metadata=clean_not_numbers_value(df_metadata,x_value)\n",
    "    #Filmenid im DataFrame in Integer convertieren\n",
    "    df_metadata['id'] = df_metadata['id'].astype(int)\n",
    "    #Löschen die Duplikate von Filmen(ID) im DataFrame\n",
    "    df_metadata = df_metadata.drop_duplicates(subset='id', keep='first')\n",
    "\n",
    "    #Lassen in DateFrame nur die Zeile, wo id von einem Film entspricht einem Index in der Serie und sorten mittthilfe Id vom Film\n",
    "    df_metadata=df_metadata[df_metadata['id'].isin(rating_y.index)].sort_values(by='id')\n",
    "    #Lassen in DateFrame nur die Zeile, wo id von einem Film entspricht einem Index in der Serie sorten mittthilfe Id vom Film\n",
    "    rating_y=rating_y[rating_y.index.isin(df_metadata['id'])].sort_index()\n",
    "\n",
    "    #Bekommen eine Serie vom DataFrame und Id von Filmen gelten as Indeces\n",
    "    values_x = df_metadata.set_index(\"id\")[x_value]\n",
    "\n",
    "    #Test, ob die Grosse von der Serien gleich ist\n",
    "    print(rating_y.size)\n",
    "    print(values_x.size)\n",
    "    return values_x, rating_y\n",
    "values_x,rating_y=prepare_data_for_rating_analysys('budget')\n",
    "\n",
    "\n",
    "\n"
   ]
  }
 ],
 "metadata": {
  "kernelspec": {
   "display_name": "my_conda_env",
   "language": "python",
   "name": "python3"
  },
  "language_info": {
   "name": "python",
   "version": "3.10.16"
  }
 },
 "nbformat": 4,
 "nbformat_minor": 2
}
